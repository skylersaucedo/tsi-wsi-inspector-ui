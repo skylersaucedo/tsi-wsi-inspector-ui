{
 "cells": [
  {
   "cell_type": "code",
   "execution_count": 6,
   "metadata": {},
   "outputs": [
    {
     "name": "stdout",
     "output_type": "stream",
     "text": [
      "pin match:  <re.Match object; span=(45, 50), match='pass1'>\n",
      "pass1\n",
      "pin match:  <re.Match object; span=(45, 50), match='pass1'>\n",
      "pass1\n",
      "pin match:  <re.Match object; span=(45, 50), match='pass1'>\n",
      "pass1\n"
     ]
    }
   ],
   "source": [
    "import re\n",
    "\n",
    "file_paths = ['C:\\\\wsi-project-scans\\\\20231012-122613\\\\RAW\\\\PIN\\\\pass1\\\\cam0\\\\video_p1_id0.avi', 'C:\\\\wsi-project-scans\\\\20231012-122613\\\\RAW\\\\PIN\\\\pass1\\\\cam1\\\\video_p1_id1.avi', 'C:\\\\wsi-project-scans\\\\20231012-122613\\\\RAW\\\\PIN\\\\pass1\\\\cam2\\\\video_p1_id2.avi']\n",
    "\n",
    "pin_regex = re.compile(r'(?<=\\\\PIN\\\\)\\w+')\n",
    "\n",
    "for file_path in file_paths:\n",
    "    pin_match = pin_regex.search(file_path)\n",
    "    print('pin match: ', pin_match)\n",
    "    if pin_match:\n",
    "        print(pin_match.group())"
   ]
  },
  {
   "cell_type": "code",
   "execution_count": 37,
   "metadata": {},
   "outputs": [
    {
     "name": "stdout",
     "output_type": "stream",
     "text": [
      "['C:', 'wsi-project-scans', '20231012-122613', 'RAW', 'PIN', 'pass1', 'cam0', 'video_p1_id0.avi']\n",
      "yes!\n",
      "box or pin:  PIN\n",
      "pass num:  pass1\n",
      "cam num:  cam0\n",
      "['C:', 'wsi-project-scans', '20231012-122613', 'RAW', 'PIN', 'pass1', 'cam1', 'video_p1_id1.avi']\n",
      "yes!\n",
      "box or pin:  PIN\n",
      "pass num:  pass1\n",
      "cam num:  cam1\n",
      "['C:', 'wsi-project-scans', '20231012-122613', 'RAW', 'PIN', 'pass1', 'cam2', 'video_p1_id2.avi']\n",
      "yes!\n",
      "box or pin:  PIN\n",
      "pass num:  pass1\n",
      "cam num:  cam2\n"
     ]
    }
   ],
   "source": [
    "file_paths = ['C:\\\\wsi-project-scans\\\\20231012-122613\\\\RAW\\\\PIN\\\\pass1\\\\cam0\\\\video_p1_id0.avi', 'C:\\\\wsi-project-scans\\\\20231012-122613\\\\RAW\\\\PIN\\\\pass1\\\\cam1\\\\video_p1_id1.avi', 'C:\\\\wsi-project-scans\\\\20231012-122613\\\\RAW\\\\PIN\\\\pass1\\\\cam2\\\\video_p1_id2.avi']\n",
    "\n",
    "for f in file_paths:\n",
    "    splity = f.split(\"\\\\\")\n",
    "    print(splity)\n",
    "\n",
    "    # box or pin\n",
    "\n",
    "    BoxOrPin = ''\n",
    "\n",
    "    if any('BOX' in x  for x in splity):\n",
    "        BoxOrPin = 'BOX'\n",
    "\n",
    "    else:\n",
    "        BoxOrPin = 'PIN'\n",
    "\n",
    "    # pass number\n",
    "\n",
    "    passnum = ''\n",
    "\n",
    "    for i in range(6):\n",
    "        if any('pass{}'.format(i) in x  for x in splity):\n",
    "            #print('yes!')\n",
    "            passnum = 'pass{}'.format(i)\n",
    "\n",
    "    # cam number\n",
    "\n",
    "    camnum = ''\n",
    "\n",
    "    for j in range(4):\n",
    "        if any('cam{}'.format(j) in x  for x in splity):\n",
    "            print('yes!')\n",
    "            camnum = 'cam{}'.format(j)\n",
    "\n",
    "    print('box or pin: ', BoxOrPin)\n",
    "    print('pass num: ', passnum)\n",
    "    print('cam num: ', camnum)\n",
    "\n"
   ]
  },
  {
   "cell_type": "code",
   "execution_count": 19,
   "metadata": {},
   "outputs": [
    {
     "name": "stdout",
     "output_type": "stream",
     "text": [
      "looking for:  \\\\PIN\\\\\n",
      "pin match:  None\n",
      "pin match:  None\n",
      "pin match:  None\n",
      "looking for:  BOX\n",
      "pin match:  None\n",
      "pin match:  None\n",
      "pin match:  None\n"
     ]
    }
   ],
   "source": [
    "#1 PIN or BOX?\n",
    "\n",
    "file_paths = ['C:\\\\wsi-project-scans\\\\20231012-122613\\\\RAW\\\\PIN\\\\pass1\\\\cam0\\\\video_p1_id0.avi', 'C:\\\\wsi-project-scans\\\\20231012-122613\\\\RAW\\\\PIN\\\\pass1\\\\cam1\\\\video_p1_id1.avi', 'C:\\\\wsi-project-scans\\\\20231012-122613\\\\RAW\\\\PIN\\\\pass1\\\\cam2\\\\video_p1_id2.avi']\n",
    "\n",
    "sides  =[\"\\\\\\\\PIN\\\\\\\\\", \"BOX\"]\n",
    "\n",
    "for s in sides:\n",
    "\n",
    "    print('looking for: ', s)\n",
    "\n",
    "    pin_regex = re.compile(r'(?<={s})\\w+')\n",
    "\n",
    "    for file_path in file_paths:\n",
    "        pin_match = pin_regex.search(file_path)\n",
    "        print('pin match: ', pin_match)\n",
    "        if pin_match:\n",
    "            print(pin_match.group())"
   ]
  }
 ],
 "metadata": {
  "kernelspec": {
   "display_name": "pytorch-gpu",
   "language": "python",
   "name": "python3"
  },
  "language_info": {
   "codemirror_mode": {
    "name": "ipython",
    "version": 3
   },
   "file_extension": ".py",
   "mimetype": "text/x-python",
   "name": "python",
   "nbconvert_exporter": "python",
   "pygments_lexer": "ipython3",
   "version": "3.9.16"
  }
 },
 "nbformat": 4,
 "nbformat_minor": 2
}
